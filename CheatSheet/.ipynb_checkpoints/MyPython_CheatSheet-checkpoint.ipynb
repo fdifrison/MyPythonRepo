{
 "cells": [
  {
   "cell_type": "markdown",
   "metadata": {},
   "source": [
    "# My Python CheatSheet\n",
    "<img src=\"logo.png\" align=\"left\"/>\n"
   ]
  },
  {
   "cell_type": "markdown",
   "metadata": {},
   "source": [
    "Descriptions and greatings and maybe a littel BIO!"
   ]
  },
  {
   "cell_type": "markdown",
   "metadata": {},
   "source": [
    "## PIP RELATED STUFF\n",
    "It happened to me more then once to have problem with pip.. this is how i solved it"
   ]
  },
  {
   "cell_type": "markdown",
   "metadata": {},
   "source": [
    "####  Can't update; missing t64.exe\n",
    "This error sometimes occur when trying to update pip\n",
    "##### Solution: from terminal\n",
    "```\n",
    "python -m pip uninstall pip\n",
    "python -m ensurepip\n",
    "python -m pip install -U pip\n",
    "```"
   ]
  },
  {
   "cell_type": "markdown",
   "metadata": {},
   "source": [
    "#### ImportError: No module named pip\n",
    "##### Solution: from terminal\n",
    "```\n",
    "sudo apt-get install python3-pip\n",
    "```"
   ]
  },
  {
   "cell_type": "raw",
   "metadata": {},
   "source": []
  },
  {
   "cell_type": "markdown",
   "metadata": {},
   "source": [
    "## PANDAS"
   ]
  },
  {
   "cell_type": "code",
   "execution_count": null,
   "metadata": {},
   "outputs": [],
   "source": []
  }
 ],
 "metadata": {
  "kernelspec": {
   "display_name": "Python 3",
   "language": "python",
   "name": "python3"
  },
  "language_info": {
   "codemirror_mode": {
    "name": "ipython",
    "version": 3
   },
   "file_extension": ".py",
   "mimetype": "text/x-python",
   "name": "python",
   "nbconvert_exporter": "python",
   "pygments_lexer": "ipython3",
   "version": "3.7.7"
  }
 },
 "nbformat": 4,
 "nbformat_minor": 4
}
