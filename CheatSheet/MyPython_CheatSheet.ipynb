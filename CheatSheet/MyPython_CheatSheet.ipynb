{
 "cells": [
  {
   "cell_type": "markdown",
   "metadata": {},
   "source": [
    "# My Python CheatSheet\n",
    "<img src=\"logo.png\" align=\"left\"/>\n"
   ]
  },
  {
   "cell_type": "markdown",
   "metadata": {},
   "source": [
    "Descriptions and greatings and maybe a littel BIO!\n",
    "\n",
    "Table of content (temp.. to be updated properly)\n",
    "\n",
    "-Pip\n",
    "\n",
    "-Pandas\n",
    "\n",
    "-Tkinter"
   ]
  },
  {
   "cell_type": "markdown",
   "metadata": {},
   "source": [
    "# Pip\n",
    "It happened to me more then once to have problem with pip.. this is how i solved it"
   ]
  },
  {
   "cell_type": "markdown",
   "metadata": {},
   "source": [
    "###  Install pip\n",
    "download from https://bootstrap.pypa.io/get-pip.py\n",
    "and then:\n",
    "\n",
    "(more info @ https://packaging.python.org/installing/)\n",
    "```\n",
    "python get-pip.py\n",
    "```"
   ]
  },
  {
   "cell_type": "markdown",
   "metadata": {},
   "source": [
    "### Update pip\n",
    "```\n",
    "pip install --upgrade pip setuptools\n",
    "```"
   ]
  },
  {
   "cell_type": "markdown",
   "metadata": {},
   "source": [
    "### Find pip executable\n",
    "```\n",
    "which pip # find where pip is installed .. usually in python global installation folder\n",
    "```"
   ]
  },
  {
   "cell_type": "markdown",
   "metadata": {},
   "source": [
    "### Installing packages\n",
    "```\n",
    "pip install requests==2.1.3 # exact version\n",
    "pip install requests>=2,<3 # latest 2.x version\n",
    "pip install requests~=2.1.3 # install the latest release compatible with 2.1.3\n",
    "pip install git+https://github.com/kennethreitz/request.git@master # install directly from git\n",
    "```"
   ]
  },
  {
   "cell_type": "markdown",
   "metadata": {},
   "source": [
    "### Find outdated packages\n",
    "```\n",
    "pip list --outdated \n",
    "```"
   ]
  },
  {
   "cell_type": "markdown",
   "metadata": {},
   "source": [
    "### VirtualEnv\n",
    "```\n",
    " python -m venv ./venv # initialize python env\n",
    " source ./venv/bin/activate # activate the python env in Linux\n",
    " venv\\Scripts\\activate # activate the python env in Windows\n",
    " deactivate # exit the python env\n",
    "```\n",
    "#### Create Shortcut:\n",
    "```\n",
    "# In Windows powershell\n",
    "function ce { cmd /c python -m venv .venv }\n",
    "function ae { cmd /c deactivate > $null 2>&1; .\\.venv\\Scripts\\Activate.ps1 }\n",
    "Set-Alias -Name de -Value 'deactivate'\n",
    "```\n",
    "```\n",
    "# In Bash Terminal\n",
    "~/.bash_profile\n",
    "alias ae='deactivate &> /dev/null; source ./venv/bin/activate'\n",
    "alias de='deactivate'\n",
    "```"
   ]
  },
  {
   "cell_type": "markdown",
   "metadata": {},
   "source": [
    "###  Can't update; missing t64.exe\n",
    "This error sometimes occur when trying to update pip\n",
    "```\n",
    "python -m pip uninstall pip\n",
    "python -m ensurepip\n",
    "python -m pip install --upgrade pip\n",
    "```"
   ]
  },
  {
   "cell_type": "markdown",
   "metadata": {},
   "source": [
    "### ImportError: No module named pip\n",
    "```\n",
    "sudo apt-get install python3-pip\n",
    "```"
   ]
  },
  {
   "cell_type": "raw",
   "metadata": {},
   "source": []
  },
  {
   "cell_type": "code",
   "execution_count": null,
   "metadata": {},
   "outputs": [],
   "source": []
  },
  {
   "cell_type": "code",
   "execution_count": null,
   "metadata": {},
   "outputs": [],
   "source": []
  },
  {
   "cell_type": "code",
   "execution_count": null,
   "metadata": {},
   "outputs": [],
   "source": []
  },
  {
   "cell_type": "markdown",
   "metadata": {},
   "source": [
    "# Pandas"
   ]
  },
  {
   "cell_type": "code",
   "execution_count": null,
   "metadata": {},
   "outputs": [],
   "source": []
  },
  {
   "cell_type": "markdown",
   "metadata": {},
   "source": [
    "# Tkinter"
   ]
  },
  {
   "cell_type": "markdown",
   "metadata": {},
   "source": [
    "### Select a file with windows selection\n",
    "```\n",
    "from tkinter import Tk     # from tkinter import Tk for Python 3.x\n",
    "from tkinter.filedialog import askopenfilename\n",
    "Tk().withdraw() # we don't want a full GUI, so keep the root window from appearing\n",
    "filename = askopenfilename() # show an \"Open\" dialog box and return the path to the selected file\n",
    "```"
   ]
  }
 ],
 "metadata": {
  "kernelspec": {
   "display_name": "Python 3",
   "language": "python",
   "name": "python3"
  },
  "language_info": {
   "codemirror_mode": {
    "name": "ipython",
    "version": 3
   },
   "file_extension": ".py",
   "mimetype": "text/x-python",
   "name": "python",
   "nbconvert_exporter": "python",
   "pygments_lexer": "ipython3",
   "version": "3.7.4"
  }
 },
 "nbformat": 4,
 "nbformat_minor": 4
}
